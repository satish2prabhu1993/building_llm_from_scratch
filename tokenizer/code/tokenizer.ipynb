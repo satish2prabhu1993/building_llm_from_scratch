{
 "cells": [
  {
   "cell_type": "markdown",
   "id": "4f7e3dda",
   "metadata": {},
   "source": [
    "Reading in verdict text sampole into python"
   ]
  },
  {
   "cell_type": "code",
   "execution_count": 91,
   "id": "1f7ec777",
   "metadata": {},
   "outputs": [],
   "source": [
    "import regex as re\n",
    "import torch\n",
    "# !pip install tiktoken\n",
    "from torch.utils.data import Dataset, DataLoader\n",
    "\n",
    "\n",
    "import tiktoken"
   ]
  },
  {
   "cell_type": "code",
   "execution_count": 127,
   "id": "bfeb6977",
   "metadata": {},
   "outputs": [
    {
     "name": "stdout",
     "output_type": "stream",
     "text": [
      "Total number of characters: 20479\n",
      "I HAD always thought Jack Gisburn rather a cheap genius--though a good fellow enough--so it was no \n"
     ]
    }
   ],
   "source": [
    "with open('../../data/the-verdict.txt', 'r', encoding='utf-8') as f:\n",
    "    raw_text = f.read()\n",
    "    \n",
    "print(f'Total number of characters: {len(raw_text)}')\n",
    "\n",
    "print(raw_text[:99])"
   ]
  },
  {
   "cell_type": "markdown",
   "id": "52738562",
   "metadata": {},
   "source": [
    "## create a vocabulary of words for tokenizer"
   ]
  },
  {
   "cell_type": "code",
   "execution_count": 39,
   "id": "3bbf1df4",
   "metadata": {},
   "outputs": [
    {
     "name": "stdout",
     "output_type": "stream",
     "text": [
      "['I', 'HAD', 'always', 'thought', 'Jack', 'Gisburn', 'rather', 'a', 'cheap', 'genius', '--', 'though', 'a', 'good', 'fellow', 'enough', '--', 'so', 'it', 'was', 'no', 'great', 'surprise', 'to', 'me', 'to', 'hear', 'that', ',', 'in']\n",
      "4690\n"
     ]
    }
   ],
   "source": [
    "preprocessed = re.split(r'([,.:;?_!\"()\\']|--|\\s)', raw_text)\n",
    "preprocessed = [item.strip() for item in preprocessed if item.strip()]\n",
    "print(preprocessed[:30])\n",
    "print(len(preprocessed))"
   ]
  },
  {
   "cell_type": "code",
   "execution_count": 40,
   "id": "c4721dee",
   "metadata": {},
   "outputs": [
    {
     "name": "stdout",
     "output_type": "stream",
     "text": [
      "1130\n",
      "['!', '\"', \"'\", '(', ')', ',', '--', '.', ':', ';', '?', 'A', 'Ah', 'Among', 'And', 'Are', 'Arrt', 'As', 'At', 'Be', 'Begin', 'Burlington', 'But', 'By', 'Carlo', 'Chicago', 'Claude', 'Come', 'Croft', 'Destroyed']\n"
     ]
    }
   ],
   "source": [
    "all_words = sorted(set(preprocessed))\n",
    "print(len(all_words))\n",
    "print(all_words[:30])"
   ]
  },
  {
   "cell_type": "code",
   "execution_count": 41,
   "id": "6bc9b2ca",
   "metadata": {},
   "outputs": [
    {
     "name": "stdout",
     "output_type": "stream",
     "text": [
      "('!', 0)\n",
      "('\"', 1)\n",
      "(\"'\", 2)\n",
      "('(', 3)\n",
      "(')', 4)\n",
      "(',', 5)\n",
      "('--', 6)\n",
      "('.', 7)\n",
      "(':', 8)\n",
      "(';', 9)\n",
      "('?', 10)\n"
     ]
    }
   ],
   "source": [
    "vocab = {token:integer for integer , token in enumerate(all_words) }\n",
    "\n",
    "for i, item in enumerate(vocab.items()):\n",
    "    print(item)\n",
    "    if i >= 10:\n",
    "        break"
   ]
  },
  {
   "cell_type": "markdown",
   "id": "8c4155ff",
   "metadata": {},
   "source": [
    "## Create tokenizer class"
   ]
  },
  {
   "cell_type": "code",
   "execution_count": 29,
   "id": "bfdb9512",
   "metadata": {},
   "outputs": [],
   "source": [
    "class SimpleTokenizerV1():\n",
    "    \n",
    "    def __init__(self, vocab):\n",
    "        self.str_to_int = vocab\n",
    "        self.int_to_str = {i:s for s,i in vocab.items()}\n",
    "        \n",
    "    def encode(self , text):\n",
    "        preprocessed = re.split(r'([,.:;?_!\"()\\']|--|\\s)',text)\n",
    "        \n",
    "        # remove space\n",
    "        preprocessed = [\n",
    "            item.strip() for item in preprocessed if item.strip()\n",
    "        ]\n",
    "        ids = [self.str_to_int[s] for s in preprocessed]\n",
    "        \n",
    "        return ids\n",
    "    \n",
    "    def decode(self,ids):\n",
    "        text = \" \".join([self.int_to_str[i] for i in ids])\n",
    "        # replace the space if it follows after puncutaions \n",
    "        text = re.sub(r'\\s+([,.?!\"()\\'])', r'\\1' , text)\n",
    "        return text"
   ]
  },
  {
   "cell_type": "code",
   "execution_count": 31,
   "id": "1066a78b",
   "metadata": {},
   "outputs": [
    {
     "name": "stdout",
     "output_type": "stream",
     "text": [
      "[53, 44, 149, 1003, 57, 38, 818, 115, 256, 486, 6]\n",
      "I HAD always thought Jack Gisburn rather a cheap genius --\n"
     ]
    }
   ],
   "source": [
    "tokenizer = SimpleTokenizerV1(vocab)\n",
    "text = \"\"\"\n",
    "I HAD always thought Jack Gisburn rather a cheap genius--\n",
    "\"\"\"\n",
    "\n",
    "# encoding the text \n",
    "print(tokenizer.encode(text)) \n",
    "\n",
    "# decoding the ids back to text\n",
    "print(tokenizer.decode(tokenizer.encode(text)))\n"
   ]
  },
  {
   "cell_type": "code",
   "execution_count": 34,
   "id": "151f11ed",
   "metadata": {},
   "outputs": [
    {
     "ename": "KeyError",
     "evalue": "'Hello'",
     "output_type": "error",
     "traceback": [
      "\u001b[0;31m---------------------------------------------------------------------------\u001b[0m",
      "\u001b[0;31mKeyError\u001b[0m                                  Traceback (most recent call last)",
      "Input \u001b[0;32mIn [34]\u001b[0m, in \u001b[0;36m<cell line: 1>\u001b[0;34m()\u001b[0m\n\u001b[0;32m----> 1\u001b[0m \u001b[38;5;28mprint\u001b[39m(\u001b[43mtokenizer\u001b[49m\u001b[38;5;241;43m.\u001b[39;49m\u001b[43mencode\u001b[49m\u001b[43m(\u001b[49m\u001b[38;5;124;43m'\u001b[39;49m\u001b[38;5;124;43mHello\u001b[39;49m\u001b[38;5;124;43m'\u001b[39;49m\u001b[43m)\u001b[49m)\n",
      "Input \u001b[0;32mIn [29]\u001b[0m, in \u001b[0;36mSimpleTokenizerV1.encode\u001b[0;34m(self, text)\u001b[0m\n\u001b[1;32m     10\u001b[0m \u001b[38;5;66;03m# remove space\u001b[39;00m\n\u001b[1;32m     11\u001b[0m preprocessed \u001b[38;5;241m=\u001b[39m [\n\u001b[1;32m     12\u001b[0m     item\u001b[38;5;241m.\u001b[39mstrip() \u001b[38;5;28;01mfor\u001b[39;00m item \u001b[38;5;129;01min\u001b[39;00m preprocessed \u001b[38;5;28;01mif\u001b[39;00m item\u001b[38;5;241m.\u001b[39mstrip()\n\u001b[1;32m     13\u001b[0m ]\n\u001b[0;32m---> 14\u001b[0m ids \u001b[38;5;241m=\u001b[39m [\u001b[38;5;28mself\u001b[39m\u001b[38;5;241m.\u001b[39mstr_to_int[s] \u001b[38;5;28;01mfor\u001b[39;00m s \u001b[38;5;129;01min\u001b[39;00m preprocessed]\n\u001b[1;32m     16\u001b[0m \u001b[38;5;28;01mreturn\u001b[39;00m ids\n",
      "Input \u001b[0;32mIn [29]\u001b[0m, in \u001b[0;36m<listcomp>\u001b[0;34m(.0)\u001b[0m\n\u001b[1;32m     10\u001b[0m \u001b[38;5;66;03m# remove space\u001b[39;00m\n\u001b[1;32m     11\u001b[0m preprocessed \u001b[38;5;241m=\u001b[39m [\n\u001b[1;32m     12\u001b[0m     item\u001b[38;5;241m.\u001b[39mstrip() \u001b[38;5;28;01mfor\u001b[39;00m item \u001b[38;5;129;01min\u001b[39;00m preprocessed \u001b[38;5;28;01mif\u001b[39;00m item\u001b[38;5;241m.\u001b[39mstrip()\n\u001b[1;32m     13\u001b[0m ]\n\u001b[0;32m---> 14\u001b[0m ids \u001b[38;5;241m=\u001b[39m [\u001b[38;5;28;43mself\u001b[39;49m\u001b[38;5;241;43m.\u001b[39;49m\u001b[43mstr_to_int\u001b[49m\u001b[43m[\u001b[49m\u001b[43ms\u001b[49m\u001b[43m]\u001b[49m \u001b[38;5;28;01mfor\u001b[39;00m s \u001b[38;5;129;01min\u001b[39;00m preprocessed]\n\u001b[1;32m     16\u001b[0m \u001b[38;5;28;01mreturn\u001b[39;00m ids\n",
      "\u001b[0;31mKeyError\u001b[0m: 'Hello'"
     ]
    }
   ],
   "source": [
    "print(tokenizer.encode('Hello')) "
   ]
  },
  {
   "cell_type": "markdown",
   "id": "0aa23b01",
   "metadata": {},
   "source": [
    "If we encounter an unknown token it errors out. To make sure our LLM doenst error out like this, we will add in special text token. \n",
    "\n",
    "Lets add two special token <|endoftext|> and <|unk|> lets update the vocab"
   ]
  },
  {
   "cell_type": "code",
   "execution_count": 47,
   "id": "34c3a0e9",
   "metadata": {},
   "outputs": [
    {
     "name": "stdout",
     "output_type": "stream",
     "text": [
      "Length of vocab before 1130\n",
      "Length of vocab before 1132\n"
     ]
    }
   ],
   "source": [
    "all_words = sorted(set(preprocessed))\n",
    "\n",
    "all_words.extend([\"<|endoftext|>\" , \"<|unk|>\"])\n",
    "\n",
    "print(f'Length of vocab before {len(vocab.items())}')\n",
    "\n",
    "vocab = {token:integer for integer , token in enumerate(all_words) }\n",
    "\n",
    "print(f'Length of vocab before {len(vocab.items())}')\n",
    "\n"
   ]
  },
  {
   "cell_type": "code",
   "execution_count": 48,
   "id": "d03898b0",
   "metadata": {},
   "outputs": [],
   "source": [
    "class SimpleTokenizerV2():\n",
    "    \n",
    "    def __init__(self, vocab):\n",
    "        self.str_to_int = vocab\n",
    "        self.int_to_str = {i:s for s,i in vocab.items()}\n",
    "        \n",
    "    def encode(self , text):\n",
    "        preprocessed = re.split(r'([,.:;?_!\"()\\']|--|\\s)',text)\n",
    "        \n",
    "        # remove space\n",
    "        preprocessed = [\n",
    "            item.strip() for item in preprocessed if item.strip()\n",
    "        ]\n",
    "        \n",
    "        # if we encounter word not in vocab add <|unk|> as its token\n",
    "        \n",
    "        preprocessed = [\n",
    "            item if item in self.str_to_int\n",
    "            else \"<|unk|>\" for item in preprocessed\n",
    "            \n",
    "        ]\n",
    "        \n",
    "        ids = [self.str_to_int[s] for s in preprocessed]\n",
    "        \n",
    "        return ids\n",
    "    \n",
    "    def decode(self,ids):\n",
    "        text = \" \".join([self.int_to_str[i] for i in ids])\n",
    "        # replace the space if it follows after puncutaions \n",
    "        text = re.sub(r'\\s+([,.?!\"()\\'])', r'\\1' , text)\n",
    "        \n",
    "        return text"
   ]
  },
  {
   "cell_type": "code",
   "execution_count": 55,
   "id": "7056c8a3",
   "metadata": {},
   "outputs": [
    {
     "name": "stdout",
     "output_type": "stream",
     "text": [
      "\n",
      "Hello , How are you ?\n",
      "<|endoftext|> Do you like Tea?\n",
      "[1131, 5, 52, 169, 1126, 10, 1130, 1131, 1126, 628, 1131, 10]\n",
      "<|unk|>, How are you? <|endoftext|> <|unk|> you like <|unk|>?\n"
     ]
    }
   ],
   "source": [
    "tokenizer = SimpleTokenizerV2(vocab)\n",
    "text1 = \"\"\"\n",
    "Hello , How are you ?\n",
    "\"\"\"\n",
    "\n",
    "text2 = \"Do you like Tea?\"\n",
    "\n",
    "text = \"<|endoftext|> \".join((text1,text2))\n",
    "\n",
    "print(text)\n",
    "# encoding the text \n",
    "print(tokenizer.encode(text)) \n",
    "\n",
    "# decoding the ids back to text\n",
    "print(tokenizer.decode(tokenizer.encode(text)))"
   ]
  },
  {
   "cell_type": "markdown",
   "id": "1dd3244a",
   "metadata": {},
   "source": [
    "#  BytePair encoding"
   ]
  },
  {
   "cell_type": "markdown",
   "id": "9a0512ca",
   "metadata": {},
   "source": [
    "Example\n",
    "- aaabdaaabac\n",
    "    - byte pair \"aa\" occures the most \n",
    "    - replace \"aa\" with \"Z\"\n",
    "    - seq now becomes ZabdZabac\n",
    "        - repeat \n",
    "        - byte pair \"ab\" replace with \"Y\"\n",
    "        - seq now becomes ZYdZYac\n",
    "            - now only \"ac\" pair is left which only occures once, so we dont need to compress it further "
   ]
  },
  {
   "cell_type": "markdown",
   "id": "40323a15",
   "metadata": {},
   "source": [
    "Practicle example of tokenization \n",
    "\n",
    "{\"old\" : 7 , \"older\" : 3 , \"finest\" : 9 , \"lowest\" : 4}\n",
    "\n",
    "Preprocessing add \"<//w>\"\n",
    "\n",
    "{\"old<//w>\" : 7 , \"older<//w>\" : 3 , \"finest<//w>\" : 9 , \"lowest<//w>\" : 4}\n",
    "\n",
    "character level tokenization \n",
    "\n",
    "<//w>   - 23 \n",
    "o       - 14         \n",
    "l       - 14\n",
    "d       - 10\n",
    "e       - 16\n",
    "r       - 3\n",
    "f       - 9\n",
    "i       - 9\n",
    "n       - 9\n",
    "s       - 13\n",
    "t       - 13\n",
    "w       - 4\n",
    "\n",
    "es appears the most \n",
    "<//w>   - 23 \n",
    "o       - 14         \n",
    "l       - 14\n",
    "d       - 10\n",
    "e       - 16 - 13 = 3\n",
    "r       - 3\n",
    "f       - 9\n",
    "i       - 9\n",
    "n       - 9\n",
    "s       - 13 -13 = 0\n",
    "t       - 13\n",
    "w       - 4\n",
    "es      - 9+4 = 13\n",
    "\n",
    "est appears the most now \n",
    "<//w>   - 23 \n",
    "o       - 14         \n",
    "l       - 14\n",
    "d       - 10\n",
    "e       - 16 - 13 = 3\n",
    "r       - 3\n",
    "f       - 9\n",
    "i       - 9\n",
    "n       - 9\n",
    "s       - 13 - 13 = 0\n",
    "t       - 13 - 13 = 0\n",
    "w       - 4\n",
    "es      - 9+4 = 13 - 13 = 0\n",
    "est     - 13\n",
    "\n",
    "est<//w>  appears the most now \n",
    "<//w>   - 23 - 13 = 10\n",
    "o       - 14         \n",
    "l       - 14\n",
    "d       - 10\n",
    "e       - 16 - 13 = 3\n",
    "r       - 3\n",
    "f       - 9\n",
    "i       - 9\n",
    "n       - 9\n",
    "s       - 13 - 13 = 0\n",
    "t       - 13 - 13 = 0\n",
    "w       - 4\n",
    "es      - 9+4 = 13 - 13 = 0\n",
    "est     - 13 - 13 = 0\n",
    "est<//w>- 13\n",
    "\n",
    "\n"
   ]
  },
  {
   "cell_type": "code",
   "execution_count": null,
   "id": "1ef8761f",
   "metadata": {},
   "outputs": [],
   "source": [
    "\n",
    "\n",
    "tokenizer = tiktoken.get_encoding(\"gpt2\")"
   ]
  },
  {
   "cell_type": "code",
   "execution_count": 68,
   "id": "2105fa49",
   "metadata": {},
   "outputs": [],
   "source": [
    "text = (\n",
    "    \"Hello, do you like tea? <|endoftext|> In the sunlit terraces\"\n",
    "     \"of someunknownPlace.\"\n",
    ")"
   ]
  },
  {
   "cell_type": "code",
   "execution_count": 69,
   "id": "a2ea0cb9",
   "metadata": {},
   "outputs": [
    {
     "name": "stdout",
     "output_type": "stream",
     "text": [
      "[15496, 11, 466, 345, 588, 8887, 30, 220, 50256, 554, 262, 4252, 18250, 8812, 2114, 1659, 617, 34680, 27271, 13]\n",
      "Hello, do you like tea? <|endoftext|> In the sunlit terracesof someunknownPlace.\n"
     ]
    }
   ],
   "source": [
    "print(tokenizer.encode(text , allowed_special={\"<|endoftext|>\"}))\n",
    "\n",
    "print(tokenizer.decode(tokenizer.encode(text , allowed_special={\"<|endoftext|>\"})))"
   ]
  },
  {
   "cell_type": "markdown",
   "id": "25a654cb",
   "metadata": {},
   "source": [
    "# Creating INPUT-TARGET pairs"
   ]
  },
  {
   "cell_type": "code",
   "execution_count": null,
   "id": "59ec0e32",
   "metadata": {},
   "outputs": [
    {
     "name": "stdout",
     "output_type": "stream",
     "text": [
      "5145\n"
     ]
    }
   ],
   "source": [
    "with open('../../data/the-verdict.txt', 'r', encoding='utf-8') as f:\n",
    "    raw_text = f.read()\n",
    "    \n",
    "enc_text = tokenizer.encode(raw_text)\n",
    "\n",
    "print(len(enc_text))"
   ]
  },
  {
   "cell_type": "code",
   "execution_count": 76,
   "id": "c7638589",
   "metadata": {},
   "outputs": [],
   "source": [
    "enc_sample = enc_text[:50]"
   ]
  },
  {
   "cell_type": "code",
   "execution_count": 79,
   "id": "25f52da4",
   "metadata": {},
   "outputs": [
    {
     "name": "stdout",
     "output_type": "stream",
     "text": [
      "x: [40, 367, 2885, 1464]\n",
      "y:      [367, 2885, 1464, 1807]\n"
     ]
    }
   ],
   "source": [
    "context_size = 4 \n",
    "\n",
    "x = enc_sample[:context_size]\n",
    "y = enc_sample[1:context_size+1]\n",
    "\n",
    "print(f'x: {x}')\n",
    "print(f'y:      {y}' )"
   ]
  },
  {
   "cell_type": "code",
   "execution_count": 82,
   "id": "b61a9ba9",
   "metadata": {},
   "outputs": [
    {
     "name": "stdout",
     "output_type": "stream",
     "text": [
      "[40] ------> 367\n",
      "[40, 367] ------> 2885\n",
      "[40, 367, 2885] ------> 1464\n",
      "[40, 367, 2885, 1464] ------> 1807\n"
     ]
    }
   ],
   "source": [
    "for i in range(1,context_size+1):\n",
    "    context = enc_sample[:i]\n",
    "    desired = enc_sample[i]\n",
    "    print(f'{context} ------> {desired}')"
   ]
  },
  {
   "cell_type": "code",
   "execution_count": 88,
   "id": "38cc38e4",
   "metadata": {},
   "outputs": [
    {
     "name": "stdout",
     "output_type": "stream",
     "text": [
      "I ------>  H\n",
      "I H ------> AD\n",
      "I HAD ------>  always\n",
      "I HAD always ------>  thought\n"
     ]
    }
   ],
   "source": [
    "for i in range(1,context_size+1):\n",
    "    context = enc_sample[:i]\n",
    "    desired = enc_sample[i]\n",
    "    print(tokenizer.decode(context), \"------>\" ,tokenizer.decode([desired]))"
   ]
  },
  {
   "cell_type": "code",
   "execution_count": 92,
   "id": "ce670191",
   "metadata": {},
   "outputs": [],
   "source": [
    "\n",
    "class GPTDatasetV1(Dataset):\n",
    "    def __init__(self , txt , tokenizer , max_length , stride):\n",
    "        self.input_ids = []\n",
    "        self.target_ids = []\n",
    "        \n",
    "        # tokenize the entire text \n",
    "        token_ids = tokenizer.encode(txt, allowed_special={\"<|endoftext|>\"})\n",
    "        \n",
    "        # using a sliding window to break the whole text into overlapping sequence of the max length\n",
    "        \n",
    "        for i in range(0 , len(token_ids)-max_length , stride):\n",
    "            input_chunk = token_ids[i:i+max_length]\n",
    "            target_chunk = token_ids[i+1:i+1+max_length]\n",
    "            self.input_ids.append(torch.tensor(input_chunk))\n",
    "            self.target_ids.append(torch.tensor(target_chunk))\n",
    "            \n",
    "    def __len__(self):\n",
    "        return len(self.input_ids)\n",
    "    \n",
    "    def __getitem__(self, index):\n",
    "        return self.input_ids[index],self.target_ids[index]"
   ]
  },
  {
   "cell_type": "code",
   "execution_count": 93,
   "id": "9e0f4ef1",
   "metadata": {},
   "outputs": [],
   "source": [
    "def create_dataloader_v1(txt , batch_size = 4 , max_length = 256 , stride = 128 , shuffle = True , drop_last = True , num_workers = 0 ):\n",
    "    \n",
    "    #initialize the tokenizer \n",
    "    \n",
    "    tokenizer= tiktoken.get_encoding('gpt2')\n",
    "    \n",
    "    #create dataset \n",
    "    dataset = GPTDatasetV1(txt , tokenizer , max_length , stride)\n",
    "    \n",
    "    # create dataloader \n",
    "    dataloader = DataLoader(\n",
    "        dataset,\n",
    "        batch_size=batch_size,\n",
    "        shuffle=shuffle,\n",
    "        drop_last=drop_last,\n",
    "        num_workers=num_workers\n",
    "    )\n",
    "    \n",
    "    return dataloader\n",
    "\n"
   ]
  },
  {
   "cell_type": "markdown",
   "id": "b2c3f3ed",
   "metadata": {},
   "source": [
    "Lets test the class and dataloader"
   ]
  },
  {
   "cell_type": "code",
   "execution_count": null,
   "id": "59d4fdac",
   "metadata": {},
   "outputs": [
    {
     "name": "stdout",
     "output_type": "stream",
     "text": [
      "[tensor([[  40,  367, 2885, 1464, 1807]]), tensor([[ 367, 2885, 1464, 1807, 3619]])]\n",
      "[tensor([[2885, 1464, 1807, 3619,  402]]), tensor([[1464, 1807, 3619,  402,  271]])]\n"
     ]
    }
   ],
   "source": [
    "with open('../../data/the-verdict.txt', 'r', encoding='utf-8') as f:\n",
    "    raw_text = f.read()\n",
    "    \n",
    "dataloader = create_dataloader_v1(txt = raw_text , batch_size=1 , max_length=5, stride=2 , shuffle=False)\n",
    "\n",
    "data_iter = iter(dataloader)\n",
    "first_batch = next(data_iter)\n",
    "\n",
    "print(first_batch)\n",
    "\n",
    "second_batch = next(data_iter)\n",
    "print(second_batch)"
   ]
  },
  {
   "cell_type": "code",
   "execution_count": null,
   "id": "c9fd83b0",
   "metadata": {},
   "outputs": [
    {
     "name": "stdout",
     "output_type": "stream",
     "text": [
      "[tensor([[   40,   367,  2885,  1464,  1807],\n",
      "        [ 1807,  3619,   402,   271, 10899],\n",
      "        [10899,  2138,   257,  7026, 15632],\n",
      "        [15632,   438,  2016,   257,   922],\n",
      "        [  922,  5891,  1576,   438,   568],\n",
      "        [  568,   340,   373,   645,  1049],\n",
      "        [ 1049,  5975,   284,   502,   284],\n",
      "        [  284,  3285,   326,    11,   287]]), tensor([[  367,  2885,  1464,  1807,  3619],\n",
      "        [ 3619,   402,   271, 10899,  2138],\n",
      "        [ 2138,   257,  7026, 15632,   438],\n",
      "        [  438,  2016,   257,   922,  5891],\n",
      "        [ 5891,  1576,   438,   568,   340],\n",
      "        [  340,   373,   645,  1049,  5975],\n",
      "        [ 5975,   284,   502,   284,  3285],\n",
      "        [ 3285,   326,    11,   287,   262]])]\n",
      "[tensor([[  287,   262,  6001,   286,   465],\n",
      "        [  465, 13476,    11,   339,   550],\n",
      "        [  550,  5710,   465, 12036,    11],\n",
      "        [   11,  6405,   257,  5527, 27075],\n",
      "        [27075,    11,   290,  4920,  2241],\n",
      "        [ 2241,   287,   257,  4489,    64],\n",
      "        [   64,   319,   262, 34686, 41976],\n",
      "        [41976,    13,   357, 10915,   314]]), tensor([[  262,  6001,   286,   465, 13476],\n",
      "        [13476,    11,   339,   550,  5710],\n",
      "        [ 5710,   465, 12036,    11,  6405],\n",
      "        [ 6405,   257,  5527, 27075,    11],\n",
      "        [   11,   290,  4920,  2241,   287],\n",
      "        [  287,   257,  4489,    64,   319],\n",
      "        [  319,   262, 34686, 41976,    13],\n",
      "        [   13,   357, 10915,   314,  2138]])]\n"
     ]
    }
   ],
   "source": [
    "with open('../../data/the-verdict.txt', 'r', encoding='utf-8') as f:\n",
    "    raw_text = f.read()\n",
    "    \n",
    "dataloader = create_dataloader_v1(txt = raw_text , batch_size=8 , max_length=5, stride=4 , shuffle=False)\n",
    "\n",
    "data_iter = iter(dataloader)\n",
    "first_batch = next(data_iter)\n",
    "\n",
    "print(first_batch)\n",
    "\n",
    "second_batch = next(data_iter)\n",
    "print(second_batch)"
   ]
  },
  {
   "cell_type": "markdown",
   "id": "63044582",
   "metadata": {},
   "source": [
    "# Token Embeddings "
   ]
  },
  {
   "cell_type": "code",
   "execution_count": 105,
   "id": "65a91717",
   "metadata": {},
   "outputs": [],
   "source": [
    "input_ids = torch.tensor([2,3,5,1])"
   ]
  },
  {
   "cell_type": "code",
   "execution_count": 106,
   "id": "bb4fa671",
   "metadata": {},
   "outputs": [],
   "source": [
    "vocab_size = 6 \n",
    "output_dim = 3 \n",
    "\n",
    "torch.manual_seed(123)\n",
    "\n",
    "embedding_layer = torch.nn.Embedding(vocab_size , output_dim)"
   ]
  },
  {
   "cell_type": "code",
   "execution_count": 107,
   "id": "cacc3295",
   "metadata": {},
   "outputs": [
    {
     "name": "stdout",
     "output_type": "stream",
     "text": [
      "Parameter containing:\n",
      "tensor([[ 0.3374, -0.1778, -0.1690],\n",
      "        [ 0.9178,  1.5810,  1.3010],\n",
      "        [ 1.2753, -0.2010, -0.1606],\n",
      "        [-0.4015,  0.9666, -1.1481],\n",
      "        [-1.1589,  0.3255, -0.6315],\n",
      "        [-2.8400, -0.7849, -1.4096]], requires_grad=True)\n"
     ]
    }
   ],
   "source": [
    "#random initialization weight\n",
    "print(embedding_layer.weight)"
   ]
  },
  {
   "cell_type": "code",
   "execution_count": 110,
   "id": "3d722c41",
   "metadata": {},
   "outputs": [
    {
     "data": {
      "text/plain": [
       "tensor([[ 1.2753, -0.2010, -0.1606],\n",
       "        [-0.4015,  0.9666, -1.1481],\n",
       "        [-2.8400, -0.7849, -1.4096],\n",
       "        [ 0.9178,  1.5810,  1.3010]], grad_fn=<EmbeddingBackward0>)"
      ]
     },
     "execution_count": 110,
     "metadata": {},
     "output_type": "execute_result"
    }
   ],
   "source": [
    "embedding_layer((input_ids))"
   ]
  },
  {
   "cell_type": "markdown",
   "id": "19b91bca",
   "metadata": {},
   "source": [
    "# Positional Embeddings"
   ]
  },
  {
   "cell_type": "code",
   "execution_count": null,
   "id": "41b8b00f",
   "metadata": {},
   "outputs": [],
   "source": [
    "vocab_size = 50257 \n",
    "output_dim = 256 \n",
    "\n",
    "# initiate token embedding\n",
    "token_embedding_layer = torch.nn.Embedding(vocab_size,output_dim)"
   ]
  },
  {
   "cell_type": "markdown",
   "id": "2cfc69ed",
   "metadata": {},
   "source": [
    "Lets intiate the data loader"
   ]
  },
  {
   "cell_type": "code",
   "execution_count": null,
   "id": "e08dbc81",
   "metadata": {},
   "outputs": [],
   "source": [
    "with open('../../data/the-verdict.txt', 'r', encoding='utf-8') as f:\n",
    "    raw_text = f.read()\n",
    "\n",
    "context_length = 4\n",
    "    \n",
    "dataloader = create_dataloader_v1(txt = raw_text , batch_size=8 , max_length=context_length, stride=context_length , shuffle=False)\n",
    "\n",
    "data_iter = iter(dataloader)\n",
    "\n",
    "inputs, targets = next(data_iter)\n"
   ]
  },
  {
   "cell_type": "code",
   "execution_count": 120,
   "id": "288333bc",
   "metadata": {},
   "outputs": [
    {
     "name": "stdout",
     "output_type": "stream",
     "text": [
      "Token Id :tensor([[   40,   367,  2885,  1464],\n",
      "        [ 1807,  3619,   402,   271],\n",
      "        [10899,  2138,   257,  7026],\n",
      "        [15632,   438,  2016,   257],\n",
      "        [  922,  5891,  1576,   438],\n",
      "        [  568,   340,   373,   645],\n",
      "        [ 1049,  5975,   284,   502],\n",
      "        [  284,  3285,   326,    11]])\n",
      "Inputs shape:torch.Size([8, 4])\n",
      "Target Id :tensor([[  367,  2885,  1464,  1807],\n",
      "        [ 3619,   402,   271, 10899],\n",
      "        [ 2138,   257,  7026, 15632],\n",
      "        [  438,  2016,   257,   922],\n",
      "        [ 5891,  1576,   438,   568],\n",
      "        [  340,   373,   645,  1049],\n",
      "        [ 5975,   284,   502,   284],\n",
      "        [ 3285,   326,    11,   287]])\n",
      "Target shape:torch.Size([8, 4])\n"
     ]
    }
   ],
   "source": [
    "print(f'Token Id :{inputs}')\n",
    "print(f'Inputs shape:{inputs.shape}')\n",
    "\n",
    "print(f'Target Id :{targets}')\n",
    "print(f'Target shape:{targets.shape}')"
   ]
  },
  {
   "cell_type": "code",
   "execution_count": 121,
   "id": "13f0ef61",
   "metadata": {},
   "outputs": [
    {
     "name": "stdout",
     "output_type": "stream",
     "text": [
      "torch.Size([8, 4, 256])\n"
     ]
    }
   ],
   "source": [
    "token_embeddings = token_embedding_layer(inputs)\n",
    "print(token_embeddings.shape)"
   ]
  },
  {
   "cell_type": "code",
   "execution_count": 124,
   "id": "dc3f3e8b",
   "metadata": {},
   "outputs": [
    {
     "name": "stdout",
     "output_type": "stream",
     "text": [
      "torch.Size([4, 256])\n"
     ]
    }
   ],
   "source": [
    "# initiate position embedding\n",
    "pos_embedding_layer = torch.nn.Embedding(context_length,output_dim)\n",
    "\n",
    "pos_embeddings = pos_embedding_layer(torch.arange(context_length))\n",
    "\n",
    "print(pos_embeddings.shape)"
   ]
  },
  {
   "cell_type": "code",
   "execution_count": 126,
   "id": "18e728ea",
   "metadata": {},
   "outputs": [
    {
     "name": "stdout",
     "output_type": "stream",
     "text": [
      "torch.Size([8, 4, 256])\n"
     ]
    }
   ],
   "source": [
    "input_embedding = token_embeddings + pos_embeddings\n",
    "\n",
    "print(input_embedding.shape)"
   ]
  },
  {
   "cell_type": "code",
   "execution_count": null,
   "id": "3c99779e",
   "metadata": {},
   "outputs": [],
   "source": []
  }
 ],
 "metadata": {
  "kernelspec": {
   "display_name": "GitHub-sKygbMQR",
   "language": "python",
   "name": "python3"
  },
  "language_info": {
   "codemirror_mode": {
    "name": "ipython",
    "version": 3
   },
   "file_extension": ".py",
   "mimetype": "text/x-python",
   "name": "python",
   "nbconvert_exporter": "python",
   "pygments_lexer": "ipython3",
   "version": "3.10.14"
  }
 },
 "nbformat": 4,
 "nbformat_minor": 5
}
